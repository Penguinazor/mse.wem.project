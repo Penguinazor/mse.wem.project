{
 "cells": [
  {
   "cell_type": "code",
   "execution_count": 1,
   "metadata": {},
   "outputs": [],
   "source": [
    "#import urllib, urllib3\n",
    "from bs4 import BeautifulSoup\n",
    "import requests\n",
    "import time\n",
    "import io\n",
    "import numpy as np\n",
    "#import nltk\n",
    "#from nltk.corpus import wordnet as wn\n",
    "import pandas as pd\n",
    "from sklearn.feature_extraction.text import CountVectorizer\n",
    "import gensim\n",
    "from gensim.models.ldamodel import LdaModel"
   ]
  },
  {
   "cell_type": "markdown",
   "metadata": {},
   "source": [
    "Downloading abstracts and from computer science papers using [arXiv.org](https://arxiv.org) API and group them by years:"
   ]
  },
  {
   "cell_type": "code",
   "execution_count": 143,
   "metadata": {},
   "outputs": [],
   "source": [
    "import os\n",
    "import pandas as pd\n",
    "def load_pickle_df(filename):\n",
    "    if not os.path.exists(filename):\n",
    "        print(\"Error file does not exist\")\n",
    "    else:\n",
    "        print(\"Loading file: \"+filename)\n",
    "        return pd.read_pickle(filename)\n",
    "def combine_pickles_to_df(path):\n",
    "    for idx,e in enumerate(os.listdir(path)):\n",
    "        if (e == \".ipynb_checkpoints\"):\n",
    "            continue\n",
    "        file_path = path+e\n",
    "        if idx == 0:\n",
    "            dff = load_pickle_df(file_path)\n",
    "            print(len(dff))\n",
    "        else:\n",
    "            df = load_pickle_df(file_path)\n",
    "            print(len(df))\n",
    "            dff = dff.append(df,ignore_index=True)\n",
    "    return dff"
   ]
  },
  {
   "cell_type": "code",
   "execution_count": 144,
   "metadata": {},
   "outputs": [
    {
     "name": "stdout",
     "output_type": "stream",
     "text": [
      "Loading file: pickles/arxiv_data_cat_20180815175209_to_20190606175609_1560075418.pickle.bz2\n",
      "45800\n",
      "Loading file: pickles/arxiv_data_cat_20170330060449_to_20180323224052_1560076229.pickle.bz2\n",
      "5970\n",
      "Loading file: pickles/arxiv_data_cs_201001010000_to_20170909215812_1560040808.pickle.bz2\n",
      "49600\n",
      "Loading file: pickles/arxiv_data_cat_201001010000_to_20120905175052_1560072901.pickle.bz2\n",
      "24438\n",
      "Loading file: pickles/arxiv_data_cat_201001010000_to_20151226190200_1560070379.pickle.bz2\n",
      "50000\n"
     ]
    },
    {
     "data": {
      "text/plain": [
       "160722"
      ]
     },
     "execution_count": 144,
     "metadata": {},
     "output_type": "execute_result"
    }
   ],
   "source": [
    "path_pickles = \"pickles/\"\n",
    "dff = combine_pickles_to_df(path_pickles)\n",
    "len(dff)\n",
    "dff = dff.loc[dff.astype(str).drop_duplicates().index]\n",
    "len(dff)"
   ]
  },
  {
   "cell_type": "code",
   "execution_count": 145,
   "metadata": {},
   "outputs": [
    {
     "data": {
      "text/html": [
       "<div>\n",
       "<style scoped>\n",
       "    .dataframe tbody tr th:only-of-type {\n",
       "        vertical-align: middle;\n",
       "    }\n",
       "\n",
       "    .dataframe tbody tr th {\n",
       "        vertical-align: top;\n",
       "    }\n",
       "\n",
       "    .dataframe thead th {\n",
       "        text-align: right;\n",
       "    }\n",
       "</style>\n",
       "<table border=\"1\" class=\"dataframe\">\n",
       "  <thead>\n",
       "    <tr style=\"text-align: right;\">\n",
       "      <th></th>\n",
       "      <th>id</th>\n",
       "      <th>updated</th>\n",
       "      <th>published</th>\n",
       "      <th>title</th>\n",
       "      <th>summary</th>\n",
       "      <th>authors</th>\n",
       "      <th>affiliations</th>\n",
       "      <th>doi</th>\n",
       "      <th>journal_ref</th>\n",
       "      <th>pdf_link</th>\n",
       "      <th>primary_category</th>\n",
       "      <th>categories</th>\n",
       "    </tr>\n",
       "  </thead>\n",
       "  <tbody>\n",
       "    <tr>\n",
       "      <th>0</th>\n",
       "      <td>http://arxiv.org/abs/1906.02739v1</td>\n",
       "      <td>2019-06-06T17:56:09Z</td>\n",
       "      <td>2019-06-06T17:56:09Z</td>\n",
       "      <td>Mesh R-CNN</td>\n",
       "      <td>Rapid advances in 2D perception have led to sy...</td>\n",
       "      <td>[Georgia Gkioxari, Jitendra Malik, Justin John...</td>\n",
       "      <td>[]</td>\n",
       "      <td>None</td>\n",
       "      <td>None</td>\n",
       "      <td>http://arxiv.org/pdf/1906.02739v1</td>\n",
       "      <td>cs.CV</td>\n",
       "      <td>[cs.CV]</td>\n",
       "    </tr>\n",
       "  </tbody>\n",
       "</table>\n",
       "</div>"
      ],
      "text/plain": [
       "                                  id               updated  \\\n",
       "0  http://arxiv.org/abs/1906.02739v1  2019-06-06T17:56:09Z   \n",
       "\n",
       "              published       title  \\\n",
       "0  2019-06-06T17:56:09Z  Mesh R-CNN   \n",
       "\n",
       "                                             summary  \\\n",
       "0  Rapid advances in 2D perception have led to sy...   \n",
       "\n",
       "                                             authors affiliations   doi  \\\n",
       "0  [Georgia Gkioxari, Jitendra Malik, Justin John...           []  None   \n",
       "\n",
       "  journal_ref                           pdf_link primary_category categories  \n",
       "0        None  http://arxiv.org/pdf/1906.02739v1            cs.CV    [cs.CV]  "
      ]
     },
     "execution_count": 145,
     "metadata": {},
     "output_type": "execute_result"
    }
   ],
   "source": [
    "dff[:1]"
   ]
  },
  {
   "cell_type": "code",
   "execution_count": 146,
   "metadata": {},
   "outputs": [
    {
     "data": {
      "text/plain": [
       "'http://arxiv.org/abs/1906.02739v1'"
      ]
     },
     "execution_count": 146,
     "metadata": {},
     "output_type": "execute_result"
    }
   ],
   "source": [
    "dff.id[:2][0]"
   ]
  },
  {
   "cell_type": "code",
   "execution_count": 147,
   "metadata": {},
   "outputs": [],
   "source": [
    "def clean_id(s):\n",
    "    if s:\n",
    "        s = re.sub('.*(abs\\/)', '', s)\n",
    "        s = re.sub('.*(cs\\/)', '', s)\n",
    "        s = re.sub('\\..*$', '', s)\n",
    "        return s.strip()\n",
    "    return s\n",
    "\n",
    "dff_ids_y_m = dff.id.map(clean_id)"
   ]
  },
  {
   "cell_type": "code",
   "execution_count": 151,
   "metadata": {},
   "outputs": [
    {
     "data": {
      "text/plain": [
       "0    1906\n",
       "Name: id, dtype: object"
      ]
     },
     "execution_count": 151,
     "metadata": {},
     "output_type": "execute_result"
    }
   ],
   "source": [
    "dff_ids_y_m[:1]"
   ]
  },
  {
   "cell_type": "code",
   "execution_count": 152,
   "metadata": {},
   "outputs": [
    {
     "data": {
      "text/plain": [
       "'1906'"
      ]
     },
     "execution_count": 152,
     "metadata": {},
     "output_type": "execute_result"
    }
   ],
   "source": [
    "dff_ids_y_m[0]"
   ]
  },
  {
   "cell_type": "code",
   "execution_count": 153,
   "metadata": {},
   "outputs": [
    {
     "data": {
      "text/plain": [
       "160722"
      ]
     },
     "execution_count": 153,
     "metadata": {},
     "output_type": "execute_result"
    }
   ],
   "source": [
    "len(dff_ids_y_m)"
   ]
  },
  {
   "cell_type": "code",
   "execution_count": 154,
   "metadata": {},
   "outputs": [
    {
     "data": {
      "text/plain": [
       "160722"
      ]
     },
     "execution_count": 154,
     "metadata": {},
     "output_type": "execute_result"
    }
   ],
   "source": [
    "s_full = list(dff_ids_y_m)\n",
    "len(s_full)"
   ]
  },
  {
   "cell_type": "code",
   "execution_count": 155,
   "metadata": {},
   "outputs": [
    {
     "data": {
      "text/plain": [
       "'0201024v2'"
      ]
     },
     "execution_count": 155,
     "metadata": {},
     "output_type": "execute_result"
    }
   ],
   "source": [
    "s_y_m = list(dff_ids_y_m)\n",
    "s_y_m[31713]"
   ]
  },
  {
   "cell_type": "code",
   "execution_count": 158,
   "metadata": {},
   "outputs": [
    {
     "data": {
      "text/plain": [
       "'0201'"
      ]
     },
     "execution_count": 158,
     "metadata": {},
     "output_type": "execute_result"
    }
   ],
   "source": [
    "s_y_m_test = list(map(lambda x: x[0:4], dff_ids_y_m))\n",
    "s_y_m_test[31713]"
   ]
  },
  {
   "cell_type": "code",
   "execution_count": 159,
   "metadata": {},
   "outputs": [
    {
     "data": {
      "text/html": [
       "<div>\n",
       "<style scoped>\n",
       "    .dataframe tbody tr th:only-of-type {\n",
       "        vertical-align: middle;\n",
       "    }\n",
       "\n",
       "    .dataframe tbody tr th {\n",
       "        vertical-align: top;\n",
       "    }\n",
       "\n",
       "    .dataframe thead th {\n",
       "        text-align: right;\n",
       "    }\n",
       "</style>\n",
       "<table border=\"1\" class=\"dataframe\">\n",
       "  <thead>\n",
       "    <tr style=\"text-align: right;\">\n",
       "      <th></th>\n",
       "      <th>Year</th>\n",
       "      <th>Month</th>\n",
       "      <th>Papers</th>\n",
       "    </tr>\n",
       "  </thead>\n",
       "  <tbody>\n",
       "    <tr>\n",
       "      <th>0</th>\n",
       "      <td>2014</td>\n",
       "      <td>12</td>\n",
       "      <td>1543</td>\n",
       "    </tr>\n",
       "    <tr>\n",
       "      <th>1</th>\n",
       "      <td>2015</td>\n",
       "      <td>12</td>\n",
       "      <td>1539</td>\n",
       "    </tr>\n",
       "    <tr>\n",
       "      <th>2</th>\n",
       "      <td>2013</td>\n",
       "      <td>12</td>\n",
       "      <td>1339</td>\n",
       "    </tr>\n",
       "    <tr>\n",
       "      <th>3</th>\n",
       "      <td>2018</td>\n",
       "      <td>12</td>\n",
       "      <td>3454</td>\n",
       "    </tr>\n",
       "    <tr>\n",
       "      <th>4</th>\n",
       "      <td>2010</td>\n",
       "      <td>12</td>\n",
       "      <td>640</td>\n",
       "    </tr>\n",
       "    <tr>\n",
       "      <th>5</th>\n",
       "      <td>2012</td>\n",
       "      <td>12</td>\n",
       "      <td>219</td>\n",
       "    </tr>\n",
       "    <tr>\n",
       "      <th>6</th>\n",
       "      <td>2016</td>\n",
       "      <td>12</td>\n",
       "      <td>2026</td>\n",
       "    </tr>\n",
       "    <tr>\n",
       "      <th>7</th>\n",
       "      <td>2017</td>\n",
       "      <td>12</td>\n",
       "      <td>275</td>\n",
       "    </tr>\n",
       "    <tr>\n",
       "      <th>8</th>\n",
       "      <td>2011</td>\n",
       "      <td>12</td>\n",
       "      <td>722</td>\n",
       "    </tr>\n",
       "    <tr>\n",
       "      <th>9</th>\n",
       "      <td>2014</td>\n",
       "      <td>11</td>\n",
       "      <td>1300</td>\n",
       "    </tr>\n",
       "    <tr>\n",
       "      <th>10</th>\n",
       "      <td>2011</td>\n",
       "      <td>11</td>\n",
       "      <td>862</td>\n",
       "    </tr>\n",
       "    <tr>\n",
       "      <th>11</th>\n",
       "      <td>2015</td>\n",
       "      <td>11</td>\n",
       "      <td>1937</td>\n",
       "    </tr>\n",
       "    <tr>\n",
       "      <th>12</th>\n",
       "      <td>2013</td>\n",
       "      <td>11</td>\n",
       "      <td>1146</td>\n",
       "    </tr>\n",
       "    <tr>\n",
       "      <th>13</th>\n",
       "      <td>2016</td>\n",
       "      <td>11</td>\n",
       "      <td>2403</td>\n",
       "    </tr>\n",
       "    <tr>\n",
       "      <th>14</th>\n",
       "      <td>2009</td>\n",
       "      <td>11</td>\n",
       "      <td>3</td>\n",
       "    </tr>\n",
       "    <tr>\n",
       "      <th>15</th>\n",
       "      <td>2017</td>\n",
       "      <td>11</td>\n",
       "      <td>294</td>\n",
       "    </tr>\n",
       "    <tr>\n",
       "      <th>16</th>\n",
       "      <td>2012</td>\n",
       "      <td>11</td>\n",
       "      <td>222</td>\n",
       "    </tr>\n",
       "    <tr>\n",
       "      <th>17</th>\n",
       "      <td>2010</td>\n",
       "      <td>11</td>\n",
       "      <td>665</td>\n",
       "    </tr>\n",
       "    <tr>\n",
       "      <th>18</th>\n",
       "      <td>2018</td>\n",
       "      <td>11</td>\n",
       "      <td>4168</td>\n",
       "    </tr>\n",
       "    <tr>\n",
       "      <th>19</th>\n",
       "      <td>2018</td>\n",
       "      <td>10</td>\n",
       "      <td>3950</td>\n",
       "    </tr>\n",
       "    <tr>\n",
       "      <th>20</th>\n",
       "      <td>2014</td>\n",
       "      <td>10</td>\n",
       "      <td>1352</td>\n",
       "    </tr>\n",
       "    <tr>\n",
       "      <th>21</th>\n",
       "      <td>2015</td>\n",
       "      <td>10</td>\n",
       "      <td>1456</td>\n",
       "    </tr>\n",
       "    <tr>\n",
       "      <th>22</th>\n",
       "      <td>2011</td>\n",
       "      <td>10</td>\n",
       "      <td>747</td>\n",
       "    </tr>\n",
       "    <tr>\n",
       "      <th>23</th>\n",
       "      <td>2010</td>\n",
       "      <td>10</td>\n",
       "      <td>590</td>\n",
       "    </tr>\n",
       "    <tr>\n",
       "      <th>24</th>\n",
       "      <td>2013</td>\n",
       "      <td>10</td>\n",
       "      <td>1235</td>\n",
       "    </tr>\n",
       "    <tr>\n",
       "      <th>25</th>\n",
       "      <td>2017</td>\n",
       "      <td>10</td>\n",
       "      <td>246</td>\n",
       "    </tr>\n",
       "    <tr>\n",
       "      <th>26</th>\n",
       "      <td>2016</td>\n",
       "      <td>10</td>\n",
       "      <td>2076</td>\n",
       "    </tr>\n",
       "    <tr>\n",
       "      <th>27</th>\n",
       "      <td>2012</td>\n",
       "      <td>10</td>\n",
       "      <td>206</td>\n",
       "    </tr>\n",
       "    <tr>\n",
       "      <th>28</th>\n",
       "      <td>2012</td>\n",
       "      <td>09</td>\n",
       "      <td>270</td>\n",
       "    </tr>\n",
       "    <tr>\n",
       "      <th>29</th>\n",
       "      <td>2018</td>\n",
       "      <td>09</td>\n",
       "      <td>3418</td>\n",
       "    </tr>\n",
       "    <tr>\n",
       "      <th>...</th>\n",
       "      <td>...</td>\n",
       "      <td>...</td>\n",
       "      <td>...</td>\n",
       "    </tr>\n",
       "    <tr>\n",
       "      <th>86</th>\n",
       "      <td>2017</td>\n",
       "      <td>03</td>\n",
       "      <td>2734</td>\n",
       "    </tr>\n",
       "    <tr>\n",
       "      <th>87</th>\n",
       "      <td>2010</td>\n",
       "      <td>03</td>\n",
       "      <td>588</td>\n",
       "    </tr>\n",
       "    <tr>\n",
       "      <th>88</th>\n",
       "      <td>2015</td>\n",
       "      <td>03</td>\n",
       "      <td>1644</td>\n",
       "    </tr>\n",
       "    <tr>\n",
       "      <th>89</th>\n",
       "      <td>2014</td>\n",
       "      <td>03</td>\n",
       "      <td>1220</td>\n",
       "    </tr>\n",
       "    <tr>\n",
       "      <th>90</th>\n",
       "      <td>2011</td>\n",
       "      <td>03</td>\n",
       "      <td>709</td>\n",
       "    </tr>\n",
       "    <tr>\n",
       "      <th>91</th>\n",
       "      <td>2019</td>\n",
       "      <td>03</td>\n",
       "      <td>3809</td>\n",
       "    </tr>\n",
       "    <tr>\n",
       "      <th>92</th>\n",
       "      <td>2012</td>\n",
       "      <td>03</td>\n",
       "      <td>975</td>\n",
       "    </tr>\n",
       "    <tr>\n",
       "      <th>93</th>\n",
       "      <td>2016</td>\n",
       "      <td>03</td>\n",
       "      <td>1877</td>\n",
       "    </tr>\n",
       "    <tr>\n",
       "      <th>94</th>\n",
       "      <td>2013</td>\n",
       "      <td>03</td>\n",
       "      <td>932</td>\n",
       "    </tr>\n",
       "    <tr>\n",
       "      <th>95</th>\n",
       "      <td>2010</td>\n",
       "      <td>02</td>\n",
       "      <td>532</td>\n",
       "    </tr>\n",
       "    <tr>\n",
       "      <th>96</th>\n",
       "      <td>2018</td>\n",
       "      <td>02</td>\n",
       "      <td>498</td>\n",
       "    </tr>\n",
       "    <tr>\n",
       "      <th>97</th>\n",
       "      <td>2013</td>\n",
       "      <td>02</td>\n",
       "      <td>297</td>\n",
       "    </tr>\n",
       "    <tr>\n",
       "      <th>98</th>\n",
       "      <td>2014</td>\n",
       "      <td>02</td>\n",
       "      <td>1263</td>\n",
       "    </tr>\n",
       "    <tr>\n",
       "      <th>99</th>\n",
       "      <td>2015</td>\n",
       "      <td>02</td>\n",
       "      <td>1489</td>\n",
       "    </tr>\n",
       "    <tr>\n",
       "      <th>100</th>\n",
       "      <td>2011</td>\n",
       "      <td>02</td>\n",
       "      <td>799</td>\n",
       "    </tr>\n",
       "    <tr>\n",
       "      <th>101</th>\n",
       "      <td>2019</td>\n",
       "      <td>02</td>\n",
       "      <td>3612</td>\n",
       "    </tr>\n",
       "    <tr>\n",
       "      <th>102</th>\n",
       "      <td>2012</td>\n",
       "      <td>02</td>\n",
       "      <td>1047</td>\n",
       "    </tr>\n",
       "    <tr>\n",
       "      <th>103</th>\n",
       "      <td>2016</td>\n",
       "      <td>02</td>\n",
       "      <td>1870</td>\n",
       "    </tr>\n",
       "    <tr>\n",
       "      <th>104</th>\n",
       "      <td>2017</td>\n",
       "      <td>02</td>\n",
       "      <td>2218</td>\n",
       "    </tr>\n",
       "    <tr>\n",
       "      <th>105</th>\n",
       "      <td>2008</td>\n",
       "      <td>01</td>\n",
       "      <td>2</td>\n",
       "    </tr>\n",
       "    <tr>\n",
       "      <th>106</th>\n",
       "      <td>2018</td>\n",
       "      <td>01</td>\n",
       "      <td>299</td>\n",
       "    </tr>\n",
       "    <tr>\n",
       "      <th>107</th>\n",
       "      <td>2017</td>\n",
       "      <td>01</td>\n",
       "      <td>1772</td>\n",
       "    </tr>\n",
       "    <tr>\n",
       "      <th>108</th>\n",
       "      <td>2016</td>\n",
       "      <td>01</td>\n",
       "      <td>1450</td>\n",
       "    </tr>\n",
       "    <tr>\n",
       "      <th>109</th>\n",
       "      <td>2015</td>\n",
       "      <td>01</td>\n",
       "      <td>1303</td>\n",
       "    </tr>\n",
       "    <tr>\n",
       "      <th>110</th>\n",
       "      <td>2014</td>\n",
       "      <td>01</td>\n",
       "      <td>1616</td>\n",
       "    </tr>\n",
       "    <tr>\n",
       "      <th>111</th>\n",
       "      <td>2013</td>\n",
       "      <td>01</td>\n",
       "      <td>340</td>\n",
       "    </tr>\n",
       "    <tr>\n",
       "      <th>112</th>\n",
       "      <td>2012</td>\n",
       "      <td>01</td>\n",
       "      <td>806</td>\n",
       "    </tr>\n",
       "    <tr>\n",
       "      <th>113</th>\n",
       "      <td>2011</td>\n",
       "      <td>01</td>\n",
       "      <td>602</td>\n",
       "    </tr>\n",
       "    <tr>\n",
       "      <th>114</th>\n",
       "      <td>2010</td>\n",
       "      <td>01</td>\n",
       "      <td>623</td>\n",
       "    </tr>\n",
       "    <tr>\n",
       "      <th>115</th>\n",
       "      <td>2019</td>\n",
       "      <td>01</td>\n",
       "      <td>3484</td>\n",
       "    </tr>\n",
       "  </tbody>\n",
       "</table>\n",
       "<p>116 rows × 3 columns</p>\n",
       "</div>"
      ],
      "text/plain": [
       "     Year Month Papers\n",
       "0    2014    12   1543\n",
       "1    2015    12   1539\n",
       "2    2013    12   1339\n",
       "3    2018    12   3454\n",
       "4    2010    12    640\n",
       "5    2012    12    219\n",
       "6    2016    12   2026\n",
       "7    2017    12    275\n",
       "8    2011    12    722\n",
       "9    2014    11   1300\n",
       "10   2011    11    862\n",
       "11   2015    11   1937\n",
       "12   2013    11   1146\n",
       "13   2016    11   2403\n",
       "14   2009    11      3\n",
       "15   2017    11    294\n",
       "16   2012    11    222\n",
       "17   2010    11    665\n",
       "18   2018    11   4168\n",
       "19   2018    10   3950\n",
       "20   2014    10   1352\n",
       "21   2015    10   1456\n",
       "22   2011    10    747\n",
       "23   2010    10    590\n",
       "24   2013    10   1235\n",
       "25   2017    10    246\n",
       "26   2016    10   2076\n",
       "27   2012    10    206\n",
       "28   2012    09    270\n",
       "29   2018    09   3418\n",
       "..    ...   ...    ...\n",
       "86   2017    03   2734\n",
       "87   2010    03    588\n",
       "88   2015    03   1644\n",
       "89   2014    03   1220\n",
       "90   2011    03    709\n",
       "91   2019    03   3809\n",
       "92   2012    03    975\n",
       "93   2016    03   1877\n",
       "94   2013    03    932\n",
       "95   2010    02    532\n",
       "96   2018    02    498\n",
       "97   2013    02    297\n",
       "98   2014    02   1263\n",
       "99   2015    02   1489\n",
       "100  2011    02    799\n",
       "101  2019    02   3612\n",
       "102  2012    02   1047\n",
       "103  2016    02   1870\n",
       "104  2017    02   2218\n",
       "105  2008    01      2\n",
       "106  2018    01    299\n",
       "107  2017    01   1772\n",
       "108  2016    01   1450\n",
       "109  2015    01   1303\n",
       "110  2014    01   1616\n",
       "111  2013    01    340\n",
       "112  2012    01    806\n",
       "113  2011    01    602\n",
       "114  2010    01    623\n",
       "115  2019    01   3484\n",
       "\n",
       "[116 rows x 3 columns]"
      ]
     },
     "execution_count": 159,
     "metadata": {},
     "output_type": "execute_result"
    }
   ],
   "source": [
    "s_y_m = list(map(lambda x: x[0:4], dff_ids_y_m))\n",
    "\n",
    "papers_y_m = pd.DataFrame(columns=['Year', 'Month', 'Papers'])\n",
    "\n",
    "for i, item in enumerate(set(s_y_m)):\n",
    "    if s_y_m.count(item) > 1:\n",
    "        papers_y_m.loc[i, 'Year'] = item[0:2]\n",
    "        papers_y_m.loc[i, 'Month'] = item[2:4]\n",
    "        papers_y_m.loc[i, 'Papers'] = s_y_m.count(item)\n",
    "\n",
    "papers_y_m.sort_values('Year', inplace=True)\n",
    "papers_y_m.sort_values('Month', inplace=True, ascending=False)\n",
    "papers_y_m.reset_index(inplace=True, drop=True)\n",
    "papers_y_m['Year'] = papers_y_m['Year'].astype(int) + 2000\n",
    "papers_y_m"
   ]
  },
  {
   "cell_type": "code",
   "execution_count": 100,
   "metadata": {},
   "outputs": [
    {
     "data": {
      "text/plain": [
       "'17'"
      ]
     },
     "execution_count": 100,
     "metadata": {},
     "output_type": "execute_result"
    }
   ],
   "source": [
    "dff_ids.str.slice(stop=2)[60000]"
   ]
  },
  {
   "cell_type": "code",
   "execution_count": 127,
   "metadata": {},
   "outputs": [
    {
     "data": {
      "text/plain": [
       "True"
      ]
     },
     "execution_count": 127,
     "metadata": {},
     "output_type": "execute_result"
    }
   ],
   "source": [
    "\"cs\" in s_y"
   ]
  },
  {
   "cell_type": "code",
   "execution_count": 128,
   "metadata": {},
   "outputs": [
    {
     "data": {
      "text/plain": [
       "31712"
      ]
     },
     "execution_count": 128,
     "metadata": {},
     "output_type": "execute_result"
    }
   ],
   "source": [
    "s_y.index(\"cs\")"
   ]
  },
  {
   "cell_type": "code",
   "execution_count": 160,
   "metadata": {},
   "outputs": [
    {
     "data": {
      "text/html": [
       "<div>\n",
       "<style scoped>\n",
       "    .dataframe tbody tr th:only-of-type {\n",
       "        vertical-align: middle;\n",
       "    }\n",
       "\n",
       "    .dataframe tbody tr th {\n",
       "        vertical-align: top;\n",
       "    }\n",
       "\n",
       "    .dataframe thead th {\n",
       "        text-align: right;\n",
       "    }\n",
       "</style>\n",
       "<table border=\"1\" class=\"dataframe\">\n",
       "  <thead>\n",
       "    <tr style=\"text-align: right;\">\n",
       "      <th></th>\n",
       "      <th>Year</th>\n",
       "      <th>Papers</th>\n",
       "    </tr>\n",
       "  </thead>\n",
       "  <tbody>\n",
       "    <tr>\n",
       "      <th>0</th>\n",
       "      <td>08</td>\n",
       "      <td>2</td>\n",
       "    </tr>\n",
       "    <tr>\n",
       "      <th>1</th>\n",
       "      <td>09</td>\n",
       "      <td>4</td>\n",
       "    </tr>\n",
       "    <tr>\n",
       "      <th>2</th>\n",
       "      <td>10</td>\n",
       "      <td>7509</td>\n",
       "    </tr>\n",
       "    <tr>\n",
       "      <th>3</th>\n",
       "      <td>11</td>\n",
       "      <td>9061</td>\n",
       "    </tr>\n",
       "    <tr>\n",
       "      <th>4</th>\n",
       "      <td>12</td>\n",
       "      <td>8647</td>\n",
       "    </tr>\n",
       "    <tr>\n",
       "      <th>5</th>\n",
       "      <td>13</td>\n",
       "      <td>12517</td>\n",
       "    </tr>\n",
       "    <tr>\n",
       "      <th>6</th>\n",
       "      <td>14</td>\n",
       "      <td>16308</td>\n",
       "    </tr>\n",
       "    <tr>\n",
       "      <th>7</th>\n",
       "      <td>15</td>\n",
       "      <td>18798</td>\n",
       "    </tr>\n",
       "    <tr>\n",
       "      <th>8</th>\n",
       "      <td>16</td>\n",
       "      <td>23581</td>\n",
       "    </tr>\n",
       "    <tr>\n",
       "      <th>9</th>\n",
       "      <td>17</td>\n",
       "      <td>21269</td>\n",
       "    </tr>\n",
       "    <tr>\n",
       "      <th>10</th>\n",
       "      <td>18</td>\n",
       "      <td>21413</td>\n",
       "    </tr>\n",
       "    <tr>\n",
       "      <th>11</th>\n",
       "      <td>19</td>\n",
       "      <td>21610</td>\n",
       "    </tr>\n",
       "  </tbody>\n",
       "</table>\n",
       "</div>"
      ],
      "text/plain": [
       "   Year Papers\n",
       "0    08      2\n",
       "1    09      4\n",
       "2    10   7509\n",
       "3    11   9061\n",
       "4    12   8647\n",
       "5    13  12517\n",
       "6    14  16308\n",
       "7    15  18798\n",
       "8    16  23581\n",
       "9    17  21269\n",
       "10   18  21413\n",
       "11   19  21610"
      ]
     },
     "execution_count": 160,
     "metadata": {},
     "output_type": "execute_result"
    }
   ],
   "source": [
    "s_y = list(map(lambda x: x[0:4], dff_ids_y_m.str.slice(stop=2)))\n",
    "\n",
    "papers_y = pd.DataFrame(columns=['Year', 'Papers'])\n",
    "\n",
    "for i, item in enumerate(set(s_y)):\n",
    "    if s_y.count(item) > 1:\n",
    "        papers_y.loc[i, 'Year'] = item\n",
    "        papers_y.loc[i, 'Papers'] = s_y.count(item)\n",
    "\n",
    "papers_y.sort_values('Year', inplace=True)\n",
    "papers_y.reset_index(inplace=True, drop=True)\n",
    "#papers_y['Year'] = papers_y['Year'].astype(int) + 2000\n",
    "papers_y"
   ]
  },
  {
   "cell_type": "code",
   "execution_count": 170,
   "metadata": {},
   "outputs": [
    {
     "data": {
      "image/png": "[encoded data removed]",
      "text/plain": [
       "<Figure size 432x288 with 1 Axes>"
      ]
     },
     "metadata": {
      "needs_background": "light"
     },
     "output_type": "display_data"
    }
   ],
   "source": [
    "import matplotlib.pyplot as plt\n",
    "%matplotlib inline\n",
    "\n",
    "plt.bar(papers_y_m['Year'], papers_y_m['Papers'], width=0.9)\n",
    "#plt.axis('off')\n",
    "ax = plt.gca()\n",
    "ax.set_title(\"Number of papers on Machine Learning \\n (arXiv:cs.LG) by May 10, 2019\", size=14)\n",
    "ax.set_xlim(2007.5, 2019.5)\n",
    "\n",
    "rects = ax.patches\n",
    "labels = [papers_y_m.loc[i, 'Papers'] for i in range(len(rects))]\n",
    "\n",
    "for rect, label in zip(rects, labels):\n",
    "    height = rect.get_height()\n",
    "    ax.text(rect.get_x() + rect.get_width()/2, height + 15, label, ha='center', va='bottom', color='black')\n",
    "\n",
    "ax.tick_params(axis ='x', which='minor', length=0)\n",
    "ax.tick_params(axis ='both', which='major', length=0)\n",
    "ax.set_yticklabels = ['']\n",
    "ax.axes.get_yaxis().set_visible(False)\n",
    "ax.spines['top'].set_visible(False)\n",
    "ax.spines['right'].set_visible(False)\n",
    "ax.spines['bottom'].set_visible(False)\n",
    "ax.spines['left'].set_visible(False)\n",
    "plt.savefig(\"WEM-arXiv-visual-cs.png\", format=\"png\", transparent=True,rasterized=True,dpi=300)\n",
    "plt.show()"
   ]
  },
  {
   "cell_type": "code",
   "execution_count": 168,
   "metadata": {},
   "outputs": [
    {
     "data": {
      "image/png": "[encoded data removed]",
      "text/plain": [
       "<Figure size 432x288 with 1 Axes>"
      ]
     },
     "metadata": {
      "needs_background": "light"
     },
     "output_type": "display_data"
    }
   ],
   "source": [
    "import matplotlib.pyplot as plt\n",
    "%matplotlib inline\n",
    "\n",
    "plt.bar(papers_y_m['Year'], papers_y_m['Papers'], width=0.9)\n",
    "#plt.axis('off')\n",
    "ax = plt.gca()\n",
    "ax.set_title(\"Number of papers on Machine Learning \\n (arXiv:cs.LG) by May 10, 2019\", size=14)\n",
    "ax.set_xlim(2017.5, 2019.5)\n",
    "\n",
    "rects = ax.patches\n",
    "labels = [papers_y_m.loc[i, 'Papers'] for i in range(len(rects))]\n",
    "\n",
    "for rect, label in zip(rects, labels):\n",
    "    height = rect.get_height()\n",
    "    ax.text(rect.get_x() + rect.get_width()/2, height + 15, str(label), ha='center', va='bottom', color='black')\n",
    "\n",
    "ax.tick_params(axis ='x', which='minor', length=0)\n",
    "ax.tick_params(axis ='both', which='major', length=0)\n",
    "ax.set_yticklabels = ['']\n",
    "ax.axes.get_yaxis().set_visible(False)\n",
    "ax.spines['top'].set_visible(False)\n",
    "ax.spines['right'].set_visible(False)\n",
    "ax.spines['bottom'].set_visible(False)\n",
    "ax.spines['left'].set_visible(False)\n",
    "plt.savefig(\"WEM-arXiv-visual-cslg.png\", format=\"png\", transparent=True,rasterized=True,dpi=300)\n",
    "plt.show()"
   ]
  },
  {
   "cell_type": "code",
   "execution_count": null,
   "metadata": {},
   "outputs": [],
   "source": []
  },
  {
   "cell_type": "code",
   "execution_count": 171,
   "metadata": {},
   "outputs": [],
   "source": [
    "filename = \"arxiv_data_cs_all_stats_years.json\"\n",
    "papers_y.to_json(filename)"
   ]
  },
  {
   "cell_type": "code",
   "execution_count": 172,
   "metadata": {},
   "outputs": [],
   "source": [
    "filename = \"arxiv_data_cs_all_stats_years_months.json\"\n",
    "papers_y_m.to_json(filename)"
   ]
  },
  {
   "cell_type": "code",
   "execution_count": null,
   "metadata": {},
   "outputs": [],
   "source": []
  }
 ],
 "metadata": {
  "kernelspec": {
   "display_name": "Python 3",
   "language": "python",
   "name": "python3"
  },
  "language_info": {
   "codemirror_mode": {
    "name": "ipython",
    "version": 3
   },
   "file_extension": ".py",
   "mimetype": "text/x-python",
   "name": "python",
   "nbconvert_exporter": "python",
   "pygments_lexer": "ipython3",
   "version": "3.7.3"
  }
 },
 "nbformat": 4,
 "nbformat_minor": 2
}
