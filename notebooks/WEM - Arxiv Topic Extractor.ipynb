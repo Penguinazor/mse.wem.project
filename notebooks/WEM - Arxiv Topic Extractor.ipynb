{
 "cells": [
  {
   "cell_type": "code",
   "execution_count": 1,
   "metadata": {},
   "outputs": [
    {
     "name": "stdout",
     "output_type": "stream",
     "text": [
      "180644\n"
     ]
    }
   ],
   "source": [
    "import pandas as pd\n",
    "df = pd.read_pickle(\"arxiv_data_cs_all.pickle.bz2\")\n",
    "print(len(df))"
   ]
  },
  {
   "cell_type": "code",
   "execution_count": 2,
   "metadata": {},
   "outputs": [
    {
     "data": {
      "text/plain": [
       "'Transformer architectures show significant promise for natural language processing. Given that a single pretrained model can be fine-tuned to perform well on many different tasks, these networks appear to extract generally useful linguistic features. A natural question is how such networks represent this information internally. This paper describes qualitative and quantitative investigations of one particularly effective model, BERT. At a high level, linguistic features seem to be represented in separate semantic and syntactic subspaces. We find evidence of a fine-grained geometric representation of word senses. We also present empirical descriptions of syntactic representations in both attention matrices and individual word embeddings, as well as a mathematical argument to explain the geometry of these representations.'"
      ]
     },
     "execution_count": 2,
     "metadata": {},
     "output_type": "execute_result"
    }
   ],
   "source": [
    "df.iloc[11,4]"
   ]
  },
  {
   "cell_type": "code",
   "execution_count": 3,
   "metadata": {},
   "outputs": [
    {
     "data": {
      "text/plain": [
       "'Andy Coenen'"
      ]
     },
     "execution_count": 3,
     "metadata": {},
     "output_type": "execute_result"
    }
   ],
   "source": [
    "df.iloc[11,5][0]"
   ]
  },
  {
   "cell_type": "code",
   "execution_count": 4,
   "metadata": {},
   "outputs": [],
   "source": [
    "# https://scikit-learn.org/stable/modules/generated/sklearn.feature_extraction.text.CountVectorizer.html\n",
    "from sklearn.feature_extraction.text import CountVectorizer\n",
    "from gensim.matutils import Sparse2Corpus\n",
    "\n",
    "#remove tokens with a document frequency lower than 2\n",
    "#remove tokens with a document frequency higher than 10%\n",
    "#remove english stop words\n",
    "#generate tokens with at least 3 letters, default pattern for 2 words: (?u)\\b\\w\\w+\\b\n",
    "\n",
    "df_min = 2\n",
    "df_max = 0.1\n",
    "\n",
    "cvec = CountVectorizer(min_df=df_min, max_df=df_max, stop_words='english', \n",
    "                       token_pattern='(?u)\\\\b\\\\w\\\\w\\\\w+\\\\b')\n",
    "\n",
    "trans = cvec.fit_transform(df.summary.tolist())\n",
    "\n",
    "corpus = Sparse2Corpus(trans, documents_columns=False)\n",
    "\n",
    "id_map = dict((v, k) for k, v in cvec.vocabulary_.items())"
   ]
  },
  {
   "cell_type": "code",
   "execution_count": 5,
   "metadata": {},
   "outputs": [
    {
     "data": {
      "text/plain": [
       "66987"
      ]
     },
     "execution_count": 5,
     "metadata": {},
     "output_type": "execute_result"
    }
   ],
   "source": [
    "len(list(id_map))"
   ]
  },
  {
   "cell_type": "code",
   "execution_count": 6,
   "metadata": {},
   "outputs": [
    {
     "data": {
      "text/plain": [
       "'ignoring'"
      ]
     },
     "execution_count": 6,
     "metadata": {},
     "output_type": "execute_result"
    }
   ],
   "source": [
    "list(cvec.vocabulary_.keys())[11]"
   ]
  },
  {
   "cell_type": "code",
   "execution_count": 7,
   "metadata": {},
   "outputs": [
    {
     "data": {
      "text/plain": [
       "True"
      ]
     },
     "execution_count": 7,
     "metadata": {},
     "output_type": "execute_result"
    }
   ],
   "source": [
    "\"lda\" in cvec.vocabulary_.keys()"
   ]
  },
  {
   "cell_type": "markdown",
   "metadata": {},
   "source": [
    "### Build LDA Model\n",
    "n_topics defines the amount of topics to generate"
   ]
  },
  {
   "cell_type": "code",
   "execution_count": 8,
   "metadata": {},
   "outputs": [
    {
     "name": "stdout",
     "output_type": "stream",
     "text": [
      "Running time is 11790.75s\n"
     ]
    }
   ],
   "source": [
    "# 3223.79s\n",
    "import time\n",
    "from gensim.models.ldamodel import LdaModel\n",
    "\n",
    "n_topics = 10\n",
    "n_passes = 50\n",
    "\n",
    "start_time = time.time()\n",
    "ldamodel = LdaModel(corpus, num_topics=n_topics, random_state=0, passes=n_passes, id2word=id_map)\n",
    "end_time = time.time()\n",
    "\n",
    "temp_file = (\"arxiv_data_cs_all\"+\"_ntopics_\"+str(n_topics)\n",
    "             +\"_npasses_\"+str(n_passes)\n",
    "             +\"_nvoc_\"+str(len(list(id_map)))\n",
    "            +\"_dfmin_\"+str(df_min)\n",
    "            +\"_dfmax_\"+str(df_max*100))\n",
    "ldamodel.save(\"lda/\"+temp_file+\".model\")\n",
    "\n",
    "print(\"Time elapsed: {}s\".format(round(end_time-start_time,2)))"
   ]
  },
  {
   "cell_type": "code",
   "execution_count": 218,
   "metadata": {},
   "outputs": [
    {
     "data": {
      "text/plain": [
       "[(0,\n",
       "  '0.012*\"software\" + 0.011*\"systems\" + 0.008*\"web\" + 0.008*\"development\" + 0.007*\"applications\"'),\n",
       " (1,\n",
       "  '0.018*\"channel\" + 0.016*\"network\" + 0.013*\"energy\" + 0.013*\"power\" + 0.011*\"performance\"'),\n",
       " (2,\n",
       "  '0.019*\"network\" + 0.018*\"networks\" + 0.011*\"social\" + 0.009*\"information\" + 0.007*\"users\"'),\n",
       " (3,\n",
       "  '0.011*\"logic\" + 0.010*\"theory\" + 0.009*\"systems\" + 0.008*\"language\" + 0.006*\"order\"'),\n",
       " (4,\n",
       "  '0.025*\"graph\" + 0.016*\"graphs\" + 0.013*\"set\" + 0.010*\"polynomial\" + 0.010*\"bound\"'),\n",
       " (5,\n",
       "  '0.010*\"method\" + 0.009*\"matrix\" + 0.008*\"linear\" + 0.007*\"methods\" + 0.007*\"function\"'),\n",
       " (6,\n",
       "  '0.017*\"learning\" + 0.014*\"image\" + 0.010*\"method\" + 0.008*\"features\" + 0.008*\"classification\"'),\n",
       " (7,\n",
       "  '0.014*\"algorithms\" + 0.012*\"performance\" + 0.010*\"computing\" + 0.007*\"method\" + 0.007*\"parallel\"'),\n",
       " (8,\n",
       "  '0.028*\"codes\" + 0.019*\"quantum\" + 0.015*\"code\" + 0.015*\"information\" + 0.012*\"coding\"'),\n",
       " (9,\n",
       "  '0.016*\"control\" + 0.012*\"game\" + 0.012*\"optimal\" + 0.011*\"agents\" + 0.010*\"games\"')]"
      ]
     },
     "execution_count": 218,
     "metadata": {},
     "output_type": "execute_result"
    }
   ],
   "source": [
    "lda_topics_5 = ldamodel.print_topics(num_topics=n_topics, num_words=5)\n",
    "lda_topics_5"
   ]
  },
  {
   "cell_type": "code",
   "execution_count": 10,
   "metadata": {},
   "outputs": [],
   "source": [
    "text_ode_abstract = \"We introduce a new family of deep neural network models. Instead of specifying a discrete sequence of hidden layers, we parameterize the derivative of the hidden state using a neural network. The output of the network is computed using a black-box differential equation solver. These continuous-depth models have constant memory cost, adapt their evaluation strategy to each input, and can explicitly trade numerical precision for speed. We demonstrate these properties in continuous-depth residual networks and continuous-time latent variable models. We also construct continuous normalizing flows, a generative model that can train by maximum likelihood, without partitioning or ordering the data dimensions. For training, we show how to scalably backpropagate through any ODE solver, without access to its internal operations. This allows end-to-end training of ODEs within larger models.\""
   ]
  },
  {
   "cell_type": "code",
   "execution_count": 11,
   "metadata": {},
   "outputs": [
    {
     "name": "stdout",
     "output_type": "stream",
     "text": [
      "0.1 (0, '0.010*\"distribution\" + 0.009*\"probability\" + 0.009*\"random\" + 0.009*\"function\" + 0.007*\"error\"') \n",
      "\n",
      "0.1 (1, '0.014*\"channel\" + 0.011*\"power\" + 0.011*\"energy\" + 0.009*\"rate\" + 0.008*\"scheme\"') \n",
      "\n",
      "0.1 (2, '0.015*\"matrix\" + 0.010*\"sparse\" + 0.008*\"signal\" + 0.008*\"dimensional\" + 0.007*\"space\"') \n",
      "\n",
      "0.1 (3, '0.011*\"logic\" + 0.010*\"quantum\" + 0.009*\"theory\" + 0.006*\"properties\" + 0.006*\"complexity\"') \n",
      "\n",
      "0.1 (4, '0.015*\"classification\" + 0.014*\"training\" + 0.012*\"features\" + 0.010*\"neural\" + 0.009*\"feature\"') \n",
      "\n",
      "0.1 (5, '0.022*\"graph\" + 0.014*\"graphs\" + 0.013*\"bound\" + 0.013*\"codes\" + 0.010*\"bounds\"') \n",
      "\n",
      "0.1 (6, '0.011*\"social\" + 0.009*\"research\" + 0.008*\"users\" + 0.007*\"user\" + 0.005*\"web\"') \n",
      "\n",
      "0.1 (7, '0.012*\"software\" + 0.008*\"search\" + 0.008*\"computing\" + 0.007*\"implementation\" + 0.007*\"design\"') \n",
      "\n",
      "0.1 (8, '0.020*\"control\" + 0.012*\"game\" + 0.010*\"agents\" + 0.009*\"games\" + 0.008*\"agent\"') \n",
      "\n",
      "0.1 (9, '0.030*\"image\" + 0.018*\"images\" + 0.013*\"detection\" + 0.011*\"video\" + 0.010*\"object\"') \n",
      "\n"
     ]
    }
   ],
   "source": [
    "from gensim.matutils import Sparse2Corpus\n",
    "import numpy as np\n",
    "\n",
    "def topic_distribution(abst_to_match, num_topics, count_vec, model):\n",
    "    topics_array = np.zeros(num_topics)\n",
    "    \n",
    "    trans = count_vec.transform(list(abst_to_match))\n",
    "    corpus = Sparse2Corpus(trans, documents_columns=False)\n",
    "    results = list(model.get_document_topics(bow=corpus))[0]\n",
    "    \n",
    "    for items in results:\n",
    "        topics_array[items[0]] = items[1]\n",
    "    return topics_array\n",
    "\n",
    "results = []\n",
    "for i, item in enumerate(topic_distribution(text_ode_abstract, n_topics, cvec, ldamodel)):\n",
    "    if item > 0:\n",
    "        results.append([i,item])\n",
    "\n",
    "results.sort(key=lambda x: x[1], reverse=True)\n",
    "\n",
    "for r in results:\n",
    "    print(round(r[1],2), lda_topics_5[r[0]],\"\\n\")\n"
   ]
  },
  {
   "cell_type": "code",
   "execution_count": 12,
   "metadata": {},
   "outputs": [
    {
     "data": {
      "text/plain": [
       "[(55680, 0.011437881),\n",
       " (50881, 0.0085247215),\n",
       " (63756, 0.008316529),\n",
       " (63751, 0.006690375),\n",
       " (65440, 0.0050740247),\n",
       " (53583, 0.004265664),\n",
       " (12449, 0.0041457308),\n",
       " (54078, 0.00408663),\n",
       " (42501, 0.0039500883),\n",
       " (47232, 0.0037868575)]"
      ]
     },
     "execution_count": 12,
     "metadata": {},
     "output_type": "execute_result"
    }
   ],
   "source": [
    "ldamodel.get_topic_terms(6, topn=10)"
   ]
  },
  {
   "cell_type": "code",
   "execution_count": 13,
   "metadata": {},
   "outputs": [],
   "source": [
    "def get_score(abstract_1, abstract_2, num_topics, count_vec, model):\n",
    "    return np.dot(topic_distribution(abstract_1, n_topics, cvec, ldamodel),\n",
    "                  topic_distribution(abstract_2, n_topics, cvec, ldamodel))"
   ]
  },
  {
   "cell_type": "code",
   "execution_count": 14,
   "metadata": {},
   "outputs": [],
   "source": [
    "def get_most_similar_paper(abstract, df, num_topics, count_vec, model):\n",
    "    best_score = 0\n",
    "    start_time = time.time()\n",
    "    summaries = df.summary.tolist()\n",
    "    for i, doc in enumerate(summaries):\n",
    "        if abstract == doc:\n",
    "            print(\"it's me at:\",i)\n",
    "            continue\n",
    "        \n",
    "        score = get_score(abstract, doc, num_topics, count_vec, model)\n",
    "        print(\"\\r\\t>>> Progress\\t:{:.2%}\".format((i + 1)/len(summaries)), end='')\n",
    "\n",
    "        if score > best_score:\n",
    "            best_i = i\n",
    "            best_score = score\n",
    "        \n",
    "    end_time = time.time()\n",
    "    print(\"\\nTime elapsed {}s\".format(round(end_time-start_time,2)))\n",
    "    return best_i, best_score"
   ]
  },
  {
   "cell_type": "code",
   "execution_count": null,
   "metadata": {},
   "outputs": [],
   "source": [
    "best_i, best_score = get_most_similar_paper(text_ode_abstract, df, n_topics, cvec, ldamodel)"
   ]
  },
  {
   "cell_type": "code",
   "execution_count": null,
   "metadata": {},
   "outputs": [],
   "source": [
    "print(\">>> Best score is:\", best_score)\n",
    "print(\">>> Abstract of the closest paper:\")\n",
    "print(df.summary[best_i])\n",
    "print(\">>> Abstract of initial paper:\")\n",
    "print(abstract)"
   ]
  },
  {
   "cell_type": "code",
   "execution_count": null,
   "metadata": {},
   "outputs": [],
   "source": [
    "for i, item in enumerate(topic_distribution(df.summary[best_i]), n_topics, cvec, ldamodel):\n",
    "    if item > 0:\n",
    "        print(i, item)"
   ]
  },
  {
   "cell_type": "code",
   "execution_count": null,
   "metadata": {},
   "outputs": [],
   "source": []
  },
  {
   "cell_type": "code",
   "execution_count": 19,
   "metadata": {},
   "outputs": [],
   "source": [
    "summary = df.summary.tolist()"
   ]
  },
  {
   "cell_type": "code",
   "execution_count": 23,
   "metadata": {},
   "outputs": [
    {
     "data": {
      "text/plain": [
       "array([0.        , 0.        , 0.08039915, 0.        , 0.24941969,\n",
       "       0.06336612, 0.        , 0.        , 0.        , 0.59975463])"
      ]
     },
     "execution_count": 23,
     "metadata": {},
     "output_type": "execute_result"
    }
   ],
   "source": [
    "topic_distribution([summary[0]],n_topics,cvec,ldamodel)"
   ]
  },
  {
   "cell_type": "code",
   "execution_count": 30,
   "metadata": {},
   "outputs": [],
   "source": [
    "summary_len = len(summary)"
   ]
  },
  {
   "cell_type": "code",
   "execution_count": null,
   "metadata": {},
   "outputs": [],
   "source": [
    "papers_df = pd.DataFrame()\n",
    "for i in range(summary_len):\n",
    "    print(\"\\r\\t>>> Progress\\t:{:.2%}\".format((i + 1)/summary_len), end='')\n",
    "    for k in range(10):\n",
    "        papers_df.loc[i, k] = topic_distribution([summary[i]],n_topics,cvec,ldamodel)[k]\n",
    "papers_df.head()"
   ]
  },
  {
   "cell_type": "code",
   "execution_count": 33,
   "metadata": {},
   "outputs": [
    {
     "data": {
      "text/html": [
       "<div>\n",
       "<style scoped>\n",
       "    .dataframe tbody tr th:only-of-type {\n",
       "        vertical-align: middle;\n",
       "    }\n",
       "\n",
       "    .dataframe tbody tr th {\n",
       "        vertical-align: top;\n",
       "    }\n",
       "\n",
       "    .dataframe thead th {\n",
       "        text-align: right;\n",
       "    }\n",
       "</style>\n",
       "<table border=\"1\" class=\"dataframe\">\n",
       "  <thead>\n",
       "    <tr style=\"text-align: right;\">\n",
       "      <th></th>\n",
       "      <th>0</th>\n",
       "      <th>1</th>\n",
       "      <th>2</th>\n",
       "      <th>3</th>\n",
       "      <th>4</th>\n",
       "      <th>5</th>\n",
       "      <th>6</th>\n",
       "      <th>7</th>\n",
       "      <th>8</th>\n",
       "      <th>9</th>\n",
       "    </tr>\n",
       "  </thead>\n",
       "  <tbody>\n",
       "    <tr>\n",
       "      <th>count</th>\n",
       "      <td>180644.000000</td>\n",
       "      <td>180644.000000</td>\n",
       "      <td>180644.000000</td>\n",
       "      <td>180644.000000</td>\n",
       "      <td>180644.000000</td>\n",
       "      <td>180644.000000</td>\n",
       "      <td>180644.000000</td>\n",
       "      <td>180644.000000</td>\n",
       "      <td>180644.000000</td>\n",
       "      <td>180644.000000</td>\n",
       "    </tr>\n",
       "    <tr>\n",
       "      <th>mean</th>\n",
       "      <td>0.106808</td>\n",
       "      <td>0.117729</td>\n",
       "      <td>0.086715</td>\n",
       "      <td>0.096656</td>\n",
       "      <td>0.102931</td>\n",
       "      <td>0.116628</td>\n",
       "      <td>0.119399</td>\n",
       "      <td>0.105897</td>\n",
       "      <td>0.068867</td>\n",
       "      <td>0.069535</td>\n",
       "    </tr>\n",
       "    <tr>\n",
       "      <th>std</th>\n",
       "      <td>0.153645</td>\n",
       "      <td>0.209588</td>\n",
       "      <td>0.145671</td>\n",
       "      <td>0.176655</td>\n",
       "      <td>0.181113</td>\n",
       "      <td>0.197873</td>\n",
       "      <td>0.185187</td>\n",
       "      <td>0.153533</td>\n",
       "      <td>0.121295</td>\n",
       "      <td>0.145008</td>\n",
       "    </tr>\n",
       "    <tr>\n",
       "      <th>min</th>\n",
       "      <td>0.000000</td>\n",
       "      <td>0.000000</td>\n",
       "      <td>0.000000</td>\n",
       "      <td>0.000000</td>\n",
       "      <td>0.000000</td>\n",
       "      <td>0.000000</td>\n",
       "      <td>0.000000</td>\n",
       "      <td>0.000000</td>\n",
       "      <td>0.000000</td>\n",
       "      <td>0.000000</td>\n",
       "    </tr>\n",
       "    <tr>\n",
       "      <th>25%</th>\n",
       "      <td>0.000000</td>\n",
       "      <td>0.000000</td>\n",
       "      <td>0.000000</td>\n",
       "      <td>0.000000</td>\n",
       "      <td>0.000000</td>\n",
       "      <td>0.000000</td>\n",
       "      <td>0.000000</td>\n",
       "      <td>0.000000</td>\n",
       "      <td>0.000000</td>\n",
       "      <td>0.000000</td>\n",
       "    </tr>\n",
       "    <tr>\n",
       "      <th>50%</th>\n",
       "      <td>0.035985</td>\n",
       "      <td>0.000000</td>\n",
       "      <td>0.015821</td>\n",
       "      <td>0.000000</td>\n",
       "      <td>0.000000</td>\n",
       "      <td>0.018142</td>\n",
       "      <td>0.026214</td>\n",
       "      <td>0.033596</td>\n",
       "      <td>0.000000</td>\n",
       "      <td>0.000000</td>\n",
       "    </tr>\n",
       "    <tr>\n",
       "      <th>75%</th>\n",
       "      <td>0.160989</td>\n",
       "      <td>0.129646</td>\n",
       "      <td>0.112872</td>\n",
       "      <td>0.105934</td>\n",
       "      <td>0.127626</td>\n",
       "      <td>0.141316</td>\n",
       "      <td>0.165402</td>\n",
       "      <td>0.158722</td>\n",
       "      <td>0.084873</td>\n",
       "      <td>0.061561</td>\n",
       "    </tr>\n",
       "    <tr>\n",
       "      <th>max</th>\n",
       "      <td>0.989652</td>\n",
       "      <td>0.992241</td>\n",
       "      <td>0.983632</td>\n",
       "      <td>0.986153</td>\n",
       "      <td>0.990321</td>\n",
       "      <td>0.990623</td>\n",
       "      <td>0.982690</td>\n",
       "      <td>0.969994</td>\n",
       "      <td>0.963993</td>\n",
       "      <td>0.988155</td>\n",
       "    </tr>\n",
       "  </tbody>\n",
       "</table>\n",
       "</div>"
      ],
      "text/plain": [
       "                   0              1              2              3  \\\n",
       "count  180644.000000  180644.000000  180644.000000  180644.000000   \n",
       "mean        0.106808       0.117729       0.086715       0.096656   \n",
       "std         0.153645       0.209588       0.145671       0.176655   \n",
       "min         0.000000       0.000000       0.000000       0.000000   \n",
       "25%         0.000000       0.000000       0.000000       0.000000   \n",
       "50%         0.035985       0.000000       0.015821       0.000000   \n",
       "75%         0.160989       0.129646       0.112872       0.105934   \n",
       "max         0.989652       0.992241       0.983632       0.986153   \n",
       "\n",
       "                   4              5              6              7  \\\n",
       "count  180644.000000  180644.000000  180644.000000  180644.000000   \n",
       "mean        0.102931       0.116628       0.119399       0.105897   \n",
       "std         0.181113       0.197873       0.185187       0.153533   \n",
       "min         0.000000       0.000000       0.000000       0.000000   \n",
       "25%         0.000000       0.000000       0.000000       0.000000   \n",
       "50%         0.000000       0.018142       0.026214       0.033596   \n",
       "75%         0.127626       0.141316       0.165402       0.158722   \n",
       "max         0.990321       0.990623       0.982690       0.969994   \n",
       "\n",
       "                   8              9  \n",
       "count  180644.000000  180644.000000  \n",
       "mean        0.068867       0.069535  \n",
       "std         0.121295       0.145008  \n",
       "min         0.000000       0.000000  \n",
       "25%         0.000000       0.000000  \n",
       "50%         0.000000       0.000000  \n",
       "75%         0.084873       0.061561  \n",
       "max         0.963993       0.988155  "
      ]
     },
     "execution_count": 33,
     "metadata": {},
     "output_type": "execute_result"
    }
   ],
   "source": [
    "papers_df.describe()"
   ]
  },
  {
   "cell_type": "code",
   "execution_count": 52,
   "metadata": {},
   "outputs": [],
   "source": [
    "paper_df_path = \"pickles/arxiv_data_cs_all_ntopics_10_npasses_50_nvoc_66987_dfmin_2_dfmax_10_paperdf.pickle.bz2\"\n",
    "papers_df.to_pickle(paper_df_path, compression='bz2')"
   ]
  },
  {
   "cell_type": "code",
   "execution_count": 54,
   "metadata": {},
   "outputs": [
    {
     "data": {
      "text/plain": [
       "'Multilayer networks are a useful data structure for simultaneously capturing multiple types of relationships between a set of nodes. In such networks, each relational definition gives rise to a layer. While each layer provides its own set of information, community structure across layers can be collectively utilized to discover and quantify underlying relational patterns between nodes. To concisely extract information from a multilayer network, we propose to identify and combine sets of layers with meaningful similarities in community structure. In this paper, we describe the \"strata multilayer stochastic block model\\'\\' sMLSBM), a probabilistic model for multilayer community structure. The central extension of the model is that there exist groups of layers, called \"strata\\'\\', which are defined such that all layers in a given stratum have community structure described by a common stochastic block model SBM). That is, layers in a stratum exhibit similar node-to-community assignments and SBM probability parameters. Fitting the sMLSBM to a multilayer network provides a joint clustering that yields node-to-community and layer-to-stratum assignments, which cooperatively aid one another during inference. We describe an algorithm for separating layers into their appropriate strata and an inference technique for estimating the SBM parameters for each stratum. We demonstrate our method using synthetic networks and a multilayer network inferred from data collected in the Human Microbiome Project.'"
      ]
     },
     "execution_count": 54,
     "metadata": {},
     "output_type": "execute_result"
    }
   ],
   "source": [
    "summary[141588]"
   ]
  },
  {
   "cell_type": "code",
   "execution_count": 36,
   "metadata": {},
   "outputs": [
    {
     "data": {
      "image/png": "[encoded data removed]",
      "text/plain": [
       "<Figure size 432x288 with 1 Axes>"
      ]
     },
     "metadata": {
      "needs_background": "light"
     },
     "output_type": "display_data"
    }
   ],
   "source": [
    "import matplotlib.pyplot as plt\n",
    "%matplotlib inline\n",
    "plt.scatter(papers_df[0], papers_df[5], alpha=0.1, s=5, c='blue')\n",
    "plt.show()"
   ]
  },
  {
   "cell_type": "code",
   "execution_count": 37,
   "metadata": {},
   "outputs": [
    {
     "data": {
      "text/plain": [
       "PCA(copy=True, iterated_power='auto', n_components=2, random_state=0,\n",
       "  svd_solver='auto', tol=0.0, whiten=False)"
      ]
     },
     "execution_count": 37,
     "metadata": {},
     "output_type": "execute_result"
    }
   ],
   "source": [
    "from sklearn.decomposition import PCA\n",
    "pca = PCA(n_components=2, random_state=0)\n",
    "pca.fit(papers_df)"
   ]
  },
  {
   "cell_type": "code",
   "execution_count": 38,
   "metadata": {},
   "outputs": [],
   "source": [
    "papers_pca = pca.transform(papers_df)"
   ]
  },
  {
   "cell_type": "code",
   "execution_count": 39,
   "metadata": {},
   "outputs": [
    {
     "data": {
      "text/plain": [
       "array([[-0.17237264, -0.14571326],\n",
       "       [-0.33578282, -0.13506409],\n",
       "       [-0.11385845, -0.14786033],\n",
       "       [-0.01492025, -0.16970094],\n",
       "       [-0.18716394, -0.14636255],\n",
       "       [-0.01252399, -0.17476399],\n",
       "       [-0.31134503, -0.17416376],\n",
       "       [-0.25322771, -0.03432315],\n",
       "       [ 0.07655581, -0.16557814],\n",
       "       [-0.13360486, -0.17511183]])"
      ]
     },
     "execution_count": 39,
     "metadata": {},
     "output_type": "execute_result"
    }
   ],
   "source": [
    "papers_pca[:10]"
   ]
  },
  {
   "cell_type": "code",
   "execution_count": 40,
   "metadata": {},
   "outputs": [
    {
     "data": {
      "text/plain": [
       "array([-0.17237264, -0.14571326])"
      ]
     },
     "execution_count": 40,
     "metadata": {},
     "output_type": "execute_result"
    }
   ],
   "source": [
    "papers_pca[0]"
   ]
  },
  {
   "cell_type": "code",
   "execution_count": 46,
   "metadata": {},
   "outputs": [],
   "source": [
    "text_ode_abstract_df = pd.DataFrame(topic_distribution(text_ode_abstract,n_topics,cvec,ldamodel))\n",
    "best_i = 100"
   ]
  },
  {
   "cell_type": "code",
   "execution_count": 56,
   "metadata": {},
   "outputs": [
    {
     "data": {
      "image/png": "[encoded data removed]",
      "text/plain": [
       "<Figure size 432x288 with 1 Axes>"
      ]
     },
     "metadata": {
      "needs_background": "light"
     },
     "output_type": "display_data"
    }
   ],
   "source": [
    "# plot each 20th paper:\n",
    "for i in range(1, len(papers_pca), 20):\n",
    "    plt.scatter(papers_pca[i][0], papers_pca[i][1], alpha=0.2, s=3, c='blue')\n",
    "# plot\n",
    "plt.scatter(papers_pca[best_i][0], papers_pca[best_i][1], alpha=0.9, s=50, c='red')\n",
    "# plot \n",
    "#text_ode_abstract_df = pd.DataFrame(topic_distribution(text_ode_abstract))\n",
    "plt.scatter(pca.transform(text_ode_abstract_df.T)[0][0], pca.transform(text_ode_abstract_df.T)[0][1], alpha=0.9, s=50, c='black')\n",
    "plt.tick_params(axis ='both', which='major', length=0)\n",
    "plt.tick_params(axis ='both', which='minor', length=0)\n",
    "plt.axis('off')\n",
    "plt.figtext(x=0.5, y=0.95, s='Initial paper', ha='center', size=14, color='black')\n",
    "plt.figtext(x=0.5, y=0.9, s='Closest paper', ha='center', size=14, color='red')\n",
    "plt.savefig(\"visual-2.png\", format=\"png\", transparent=True,rasterized=True,dpi=300)\n",
    "\n",
    "plt.show()"
   ]
  },
  {
   "cell_type": "code",
   "execution_count": null,
   "metadata": {},
   "outputs": [],
   "source": []
  }
 ],
 "metadata": {
  "kernelspec": {
   "display_name": "Python [conda env:py36]",
   "language": "python",
   "name": "conda-env-py36-py"
  },
  "language_info": {
   "codemirror_mode": {
    "name": "ipython",
    "version": 3
   },
   "file_extension": ".py",
   "mimetype": "text/x-python",
   "name": "python",
   "nbconvert_exporter": "python",
   "pygments_lexer": "ipython3",
   "version": "3.6.8"
  }
 },
 "nbformat": 4,
 "nbformat_minor": 2
}
