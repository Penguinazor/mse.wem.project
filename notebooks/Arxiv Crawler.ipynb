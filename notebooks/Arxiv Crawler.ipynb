{
 "cells": [
  {
   "cell_type": "markdown",
   "metadata": {},
   "source": [
    "# Arxiv Crawler"
   ]
  },
  {
   "cell_type": "code",
   "execution_count": 1,
   "metadata": {},
   "outputs": [],
   "source": [
    "import pandas as pd\n",
    "import time\n",
    "import os"
   ]
  },
  {
   "cell_type": "code",
   "execution_count": 2,
   "metadata": {},
   "outputs": [
    {
     "name": "stdout",
     "output_type": "stream",
     "text": [
      "http://export.arxiv.org/api/query?search_query=all:deep&start=10&max_results=1000\n"
     ]
    }
   ],
   "source": [
    "# https://arxiv.org/help/api/index\n",
    "# https://arxiv.org/help/api/user-manual\n",
    "\n",
    "import xml.etree.ElementTree as ET\n",
    "from urllib.request import urlopen\n",
    "\n",
    "# http://export.arxiv.org/api/query?search_query=all:electron&start=0&max_results=1\n",
    "\n",
    "base_url = 'http://export.arxiv.org/api/query?search_query='\n",
    "categroy = \"stat.ML\"\n",
    "subject = \"deep\"\n",
    "start = 10\n",
    "max_results = 1000\n",
    "\n",
    "url = base_url + 'all:' + subject + '&start=' + str(start) + '&max_results=' + str(max_results)\n",
    "print(url)\n",
    "data = urlopen(url).read()\n",
    "parsed = ET.fromstring(data)\n",
    "\n",
    "if not int(parsed.find(\"{http://a9.com/-/spec/opensearch/1.1/}totalResults\").text) != 0:\n",
    "    print(\"NO RESULTS - ABORT NOW\")"
   ]
  },
  {
   "cell_type": "code",
   "execution_count": 3,
   "metadata": {},
   "outputs": [],
   "source": [
    "import pprint\n",
    "pp = pprint.PrettyPrinter(indent=4)\n",
    "\n",
    "XML_ENTRIES = \"{http://www.w3.org/2005/Atom}entry\"\n",
    "XML_ID = \"{http://www.w3.org/2005/Atom}id\"\n",
    "XML_UPDATED = \"{http://www.w3.org/2005/Atom}updated\"\n",
    "XML_PUBLISHED = \"{http://www.w3.org/2005/Atom}published\"\n",
    "XML_TITLE = \"{http://www.w3.org/2005/Atom}title\"\n",
    "XML_SUMMARY = \"{http://www.w3.org/2005/Atom}summary\"\n",
    "\n",
    "XML_AUTHOR = \"{http://www.w3.org/2005/Atom}author\"\n",
    "XML_AUTHOR_NAME = \"{http://www.w3.org/2005/Atom}name\"\n",
    "XML_AUTHOR_AFFILIATION = \"{http://arxiv.org/schemas/atom}affiliation\"\n",
    "\n",
    "XML_DOI = \"{http://arxiv.org/schemas/atom}doi\"\n",
    "XML_JOURNAL_REF = \"{http://arxiv.org/schemas/atom}journal_ref\"\n",
    "XML_LINKS = \"{http://www.w3.org/2005/Atom}link\"\n",
    "\n",
    "XML_PRIMARY_CATEGORY = \"{http://arxiv.org/schemas/atom}primary_category\"\n",
    "XML_CATEGORY = \"{http://www.w3.org/2005/Atom}category\"\n",
    "\n",
    "\n",
    "\n",
    "\n",
    "entries_list = []\n",
    "entries_root = parsed.findall(\"./\"+XML_ENTRIES)\n",
    "\n",
    "if parsed.find(\"./\"+XML_ENTRIES):\n",
    "    for entry in entries_root:        \n",
    "        entry_list = []\n",
    "        \n",
    "        entry_list.append(entry.find(\"./\"+XML_ID).text) # Entry ID\n",
    "        entry_list.append(entry.find(\"./\"+XML_UPDATED).text) # Entry Update Date\n",
    "        entry_list.append(entry.find(\"./\"+XML_PUBLISHED).text) # Entry Published Date\n",
    "        entry_list.append(entry.find(\"./\"+XML_TITLE).text) # Entry Title\n",
    "        entry_list.append(entry.find(\"./\"+XML_SUMMARY).text) # Entry Summary\n",
    "                \n",
    "        # List of entry authors and their affiliation is any\n",
    "        authors_name_list = []\n",
    "        authors_affiliation_list = []\n",
    "        for author in entry.findall(\"./\"+XML_AUTHOR):\n",
    "            authors_name_list.append(author.find(\"./\"+XML_AUTHOR_NAME).text)\n",
    "            if author.find(\"./\"+XML_AUTHOR_AFFILIATION) != None:\n",
    "                authors_affiliation_list.append(author.find(\"./\"+XML_AUTHOR_AFFILIATION).text)\n",
    "        entry_list.append(authors_name_list)\n",
    "        entry_list.append(authors_affiliation_list)\n",
    "        \n",
    "        # Entry DOI\n",
    "        doi = entry.find(\"./\"+XML_DOI)\n",
    "        if doi is not None:\n",
    "            entry_list.append(doi.text)\n",
    "        else:\n",
    "            entry_list.append(None)\n",
    "            \n",
    "        # Entry Journal Ref\n",
    "        jref = entry.find(\"./\"+XML_JOURNAL_REF)\n",
    "        if jref is not None:\n",
    "            entry_list.append(jref.text)\n",
    "        else:\n",
    "            entry_list.append(None)\n",
    "\n",
    "        # Entry PDF link\n",
    "        for links in entry.findall(\"./\"+XML_LINKS):\n",
    "            if (links.attrib.get(\"title\") == \"pdf\"): entry_list.append(links.attrib.get(\"href\"))\n",
    "                \n",
    "        # Entry primary category\n",
    "        entry_list.append(entry.find(\"./\"+XML_PRIMARY_CATEGORY).attrib.get(\"term\"))\n",
    "        \n",
    "        # Entry Categories\n",
    "        authors_categories_list = []\n",
    "        for category in entry.findall(\"./\"+XML_CATEGORY):\n",
    "            authors_categories_list.append(category.attrib.get(\"term\"))\n",
    "        entry_list.append(authors_categories_list)\n",
    "        \n",
    "        # Build entries list\n",
    "        entries_list.append(entry_list) # Append to main entry list\n",
    "        \n",
    "#pp.pprint(entries_list)"
   ]
  },
  {
   "cell_type": "code",
   "execution_count": 4,
   "metadata": {},
   "outputs": [],
   "source": [
    "HEADERS = ['id', 'updated', 'published', 'title', 'summary', 'authors', 'affiliations', 'doi', 'journal_ref', 'pdf_link', 'primary_category', 'categories']\n",
    "\n",
    "def create_df(entries):\n",
    "    df = pd.DataFrame(entries_list, columns=HEADERS)\n",
    "    df['authors'] = df['authors'].apply(lambda x: '|'.join(x))\n",
    "    df['affiliations'] = df['affiliations'].apply(lambda x: '|'.join(x))\n",
    "    df['categories'] = df['categories'].apply(lambda x: '|'.join(x))\n",
    "    return df\n",
    "\n",
    "def write_df(entries_df, filename):\n",
    "    filename = filename+'.csv.bz2'\n",
    "\n",
    "    if not os.path.exists(filename):\n",
    "        print('Creating file: '+filename)\n",
    "        entries_df.to_csv(filename, index=False, compression='bz2', mode='w')\n",
    "    else:\n",
    "        print('Writing file: '+filename)\n",
    "        entries_df.to_csv(filename, index=False, compression='bz2', mode='a', header=False)\n",
    "        \n",
    "    print('Done!')"
   ]
  },
  {
   "cell_type": "code",
   "execution_count": 5,
   "metadata": {},
   "outputs": [
    {
     "name": "stdout",
     "output_type": "stream",
     "text": [
      "Creating file: arxiv_data_1556874672.csv.bz2\n",
      "Done!\n"
     ]
    }
   ],
   "source": [
    "ARXIV_DATA_FILENAME = 'arxiv_data_'+str(int(time.time()))\n",
    "\n",
    "df = create_df(entries_list)\n",
    "write_df(df, ARXIV_DATA_FILENAME)\n",
    "\n",
    "#df = create_df(entries_list)\n",
    "#write_df(df, ARXIV_DATA_FILENAME)\n",
    "\n",
    "#df = create_df(entries_list)\n",
    "#write_df(df, ARXIV_DATA_FILENAME)"
   ]
  }
 ],
 "metadata": {
  "kernelspec": {
   "display_name": "Python 3",
   "language": "python",
   "name": "python3"
  },
  "language_info": {
   "codemirror_mode": {
    "name": "ipython",
    "version": 3
   },
   "file_extension": ".py",
   "mimetype": "text/x-python",
   "name": "python",
   "nbconvert_exporter": "python",
   "pygments_lexer": "ipython3",
   "version": "3.7.1"
  }
 },
 "nbformat": 4,
 "nbformat_minor": 2
}
